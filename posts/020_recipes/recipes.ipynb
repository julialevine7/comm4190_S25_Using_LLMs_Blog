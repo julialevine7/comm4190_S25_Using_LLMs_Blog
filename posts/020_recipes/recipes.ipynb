{
 "cells": [
  {
   "cell_type": "raw",
   "id": "0a2434fa-4e37-45c6-b5ee-c2584837847a",
   "metadata": {},
   "source": [
    "---\n",
    "execute:\n",
    "\n",
    "  output: asis\n",
    "\n",
    "\n",
    "title: \"Cocktail Recipes with gpt-4o!\"\n",
    "description: \"I'm not much of a bartender, but is 4o?\"\n",
    "author: \"Julia Levine\"\n",
    "date: \"4/13/2025\"\n",
    "categories:\n",
    "  - LLMs\n",
    "---"
   ]
  },
  {
   "cell_type": "markdown",
   "id": "85969ca9-da64-4a0c-875e-ab93798155de",
   "metadata": {},
   "source": [
    "# Introduction\n",
    "I've used ChatGPT before to make recipes and drinks, and it has always been a 50/50 for me. I find that if I feed it very simple ingredients with not much movement beyond recipes that I could easily put together myself (I am no chef). \n",
    "\n",
    "Today, I am celebrating graduation festivities and would like gpt-4o to make me a cocktail out of the random ingredients I still have in my fridge. First, I will present it my ingredients, then I will try the drink and rate it. Depending on how good or bad it goes, I may ask gpt-4o to make a second drink to make up for the first. \n",
    "\n",
    "# Discussion\n",
    "Honestly, it was delicious. And I'll have you know I am known to mess up drink proportions even when its a known recipe, so that's saying a lot. The drink gpt-4o recommended to me was a Monkey 47 gin-based cocktail with orange juice, coconut water, and a squeeze of lemon. \n",
    "\n",
    "Now, for the LLM side of things, I still firmly believe that food-based recommendations from ChatGPT specifically are always a 50/50. I think that this makes sense when you consider its training data, which consists of so many cultures and regions of food, some even with the same dish made in a completely different way! Noting back to my ideal human blog post, gpt-4o specifically seems to struggle with generalizing across all these cultural differences (understandably!). I think humans are able to do it better since they can associate with a fewer number of cultures they belong to or know of, whereas ChatGPT (theoretically) knows of way too many to even count. Moving this back to my cocktail recipe, it seems that this combo was one for success, but I could see how in other recipe requests things may get more jumbled.\n",
    "\n",
    "An interesting experiment for the future could be to specify very particular regions and see if gpt-4o is able to pinpoint those exact recipe requirements, or if it still tends towards generalization.\n",
    "\n",
    "Anyways, a toast from me to you with my AI-generated cocktail in celebration of the future. "
   ]
  }
 ],
 "metadata": {
  "kernelspec": {
   "display_name": "Python 3-12 (COMM4190)",
   "language": "python",
   "name": "python3-12_comm4190"
  },
  "language_info": {
   "codemirror_mode": {
    "name": "ipython",
    "version": 3
   },
   "file_extension": ".py",
   "mimetype": "text/x-python",
   "name": "python",
   "nbconvert_exporter": "python",
   "pygments_lexer": "ipython3",
   "version": "3.12.8"
  }
 },
 "nbformat": 4,
 "nbformat_minor": 5
}
