{
 "cells": [
  {
   "cell_type": "raw",
   "id": "1d4be9b6-c941-4595-94bf-20c3af723ff5",
   "metadata": {},
   "source": [
    "---\n",
    "title: \"LLMs v. LLMs: Rating LLM Effectiveness Using Other LLMs\"\n",
    "description: \"How effective does ChatGPT think Deepseek is? How about the other way around?\"\n",
    "author: \"Julia Levine\"\n",
    "date: \"2/20/2025\"\n",
    "categories:\n",
    "  - LLMs\n",
    "---"
   ]
  }
 ],
 "metadata": {
  "kernelspec": {
   "display_name": "Python 3-12 (COMM4190)",
   "language": "python",
   "name": "python3-12_comm4190"
  },
  "language_info": {
   "codemirror_mode": {
    "name": "ipython",
    "version": 3
   },
   "file_extension": ".py",
   "mimetype": "text/x-python",
   "name": "python",
   "nbconvert_exporter": "python",
   "pygments_lexer": "ipython3",
   "version": "3.12.8"
  }
 },
 "nbformat": 4,
 "nbformat_minor": 5
}
