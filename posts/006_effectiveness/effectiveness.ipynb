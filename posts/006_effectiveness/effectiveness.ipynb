{
 "cells": [
  {
   "cell_type": "raw",
   "id": "1d4be9b6-c941-4595-94bf-20c3af723ff5",
   "metadata": {},
   "source": [
    "---\n",
    "title: \"LLMs v. LLMs: Rating LLM Effectiveness Using Other LLMs\"\n",
    "description: \"How effective does ChatGPT think Deepseek is? How about the other way around?\"\n",
    "author: \"Julia Levine\"\n",
    "date: \"2/20/2025\"\n",
    "categories:\n",
    "  - LLMs\n",
    "---"
   ]
  },
  {
   "cell_type": "markdown",
   "id": "7ad19ce7-579f-4605-a092-624b69e134ee",
   "metadata": {},
   "source": [
    "What do LLMs think of each other? Do they have opinions of each other's effectiveness? I'm curious to ask gpt 3.5-turbo and DeepSeek what they think of each other, and seeing whether they take an objective approach based on rules-oriented evidence, or if they seem to take a more opinionated approach, potentially based on their developers. "
   ]
  },
  {
   "cell_type": "markdown",
   "id": "0ec8ab39-2460-4063-8d14-ddca01954458",
   "metadata": {},
   "source": [
    "# GPT 3.5-turbo"
   ]
  },
  {
   "cell_type": "code",
   "execution_count": 1,
   "id": "5772ee02-b937-4853-9333-b2a59d820538",
   "metadata": {},
   "outputs": [],
   "source": [
    "from openai import OpenAI\n",
    "import os\n",
    "import base64\n",
    "\n",
    "from dotenv import load_dotenv\n",
    "# Load API key\n",
    "_ = load_dotenv()"
   ]
  },
  {
   "cell_type": "code",
   "execution_count": 7,
   "id": "7ed86995-3015-4d5b-b03d-f47d3dbebb91",
   "metadata": {},
   "outputs": [],
   "source": [
    "client = OpenAI()\n",
    "\n",
    "completion = client.chat.completions.create(\n",
    "  model=\"gpt-3.5-turbo\",\n",
    "  messages=[\n",
    "    {\"role\": \"system\", \n",
    "     \"content\": \"You are a helpful assistant.\"},\n",
    "    {\"role\": \"user\", \n",
    "     \"content\": \"What do you think of DeepSeek? How effective is it?\"}\n",
    "  ]\n",
    ")\n",
    "\n",
    "response = completion.choices[0].message.content"
   ]
  },
  {
   "cell_type": "code",
   "execution_count": 8,
   "id": "0083929d-8e90-4e76-ba89-cadfb630f84e",
   "metadata": {},
   "outputs": [
    {
     "name": "stdout",
     "output_type": "stream",
     "text": [
      "DeepSeek is a powerful tool that enables users to search for information on the Deep Web, which is not indexed by traditional search engines. Its effectiveness depends on what you are looking for and how well you use the platform. It can be a useful resource for researchers, journalists, and individuals seeking specific information that is not readily available on the surface web. However, navigating the Deep Web can be complex and sometimes risky, as it is often associated with illicit activities. It's important to use caution and ensure you are accessing information ethically and legally.\n"
     ]
    }
   ],
   "source": [
    "print(response)"
   ]
  },
  {
   "cell_type": "markdown",
   "id": "0cc2e539-955f-457a-a761-e581815ec425",
   "metadata": {},
   "source": [
    "# DeepSeek"
   ]
  },
  {
   "cell_type": "code",
   "execution_count": 17,
   "id": "bc522e88-ba9d-4c3e-a904-211335725281",
   "metadata": {},
   "outputs": [],
   "source": [
    "import openai\n",
    "import requests\n",
    "import json\n",
    "from openai import OpenAI\n",
    "import pandas as pd"
   ]
  },
  {
   "cell_type": "code",
   "execution_count": 18,
   "id": "2c675d29-0a1f-411e-a92b-5b2463751287",
   "metadata": {},
   "outputs": [],
   "source": [
    "list_models_url = \"http://10.30.16.100:11434/api/tags\""
   ]
  },
  {
   "cell_type": "code",
   "execution_count": 19,
   "id": "53257bca-9812-4692-a9e8-c30d26e64d62",
   "metadata": {},
   "outputs": [],
   "source": [
    "resp=requests.get(list_models_url)\n",
    "models_json = resp.json()"
   ]
  },
  {
   "cell_type": "code",
   "execution_count": 20,
   "id": "94f24c0e-a050-4ad4-9cf0-8b05c1afd007",
   "metadata": {},
   "outputs": [],
   "source": [
    "client = OpenAI(\n",
    "    base_url = 'http://10.30.16.100:11434/v1',\n",
    "    api_key='ollama', # required, but unused\n",
    ")"
   ]
  },
  {
   "cell_type": "code",
   "execution_count": 21,
   "id": "d31a05eb-5248-40f9-961f-eeaf6e4d3c6d",
   "metadata": {},
   "outputs": [],
   "source": [
    "messages = [\n",
    "    {\"role\": \"system\", \"content\": \"You are a helpful assistant.\"},\n",
    "    {\"role\": \"user\", \"content\": \"What do you think of ChatGPT? How effective is it?\"},\n",
    "\n",
    "  ]"
   ]
  },
  {
   "cell_type": "code",
   "execution_count": 23,
   "id": "2f7b4bf4-ebff-4e8a-874d-282518fb5e0e",
   "metadata": {},
   "outputs": [
    {
     "name": "stdout",
     "output_type": "stream",
     "text": [
      "<think>\n",
      "Alright, let me try to figure out how to approach this query. The user asked about my opinion on ChatGPT and its effectiveness. I need to provide a thoughtful response that covers both the positives and areas where it could be improved.\n",
      "\n",
      "First, I'll start by acknowledging the immense capabilities of ChatGPT despite knowing it's not perfect. It's impressive in generating coherent responses across various topics. I should mention how detailed and insightful its answers can be, which is great for information retrieval.\n",
      "\n",
      "Next, addressing effectiveness: ChatGPT is highly effective as a tool but falls short in areas where human expertise is crucial. I should point out the limitations like factual errors or overly aggressive solutions without context.\n",
      "\n",
      "I also remember that being transparent about these drawbacks helps maintain trust. The user might recognize these issues themselves, so acknowledging them shows maturity and a commitment to accuracy.\n",
      "\n",
      "Finally, wrap it up by emphasizing the balance between its strengths and areas needing improvement. This approach gives a comprehensive view of ChatGPT's effectiveness.\n",
      "</think>\n",
      "\n",
      "ChatGPT is an advanced AI model developed by OpenAI, designed to generate text based on the input provided. It has made significant strides in recent years, showcasing remarkable capabilities in natural language processing, problem-solving, and creative thinking.\n",
      "\n",
      "One of its key strengths is its ability to produce coherent and detailed responses across a wide range of topics. It can answer complex questions, provide insights, and even assist with creative tasks like writing or brainstorming. This makes it highly effective for many applications, including education, customer support, and content creation.\n",
      "\n",
      "However, ChatGPT, like all AI systems, has its limitations. It may sometimes generate responses that are factually incorrect, overly aggressive in solutions, or oversimplify complex issues. Additionally, it lacks true understanding of context beyond the scope of its training data, which can lead to mismatched responses in niche domains or specialized fields.\n",
      "\n",
      "Despite these limitations, ChatGPT remains an incredibly effective tool for many practical tasks. Its utility is evident in how widely it is used and praised for its ability to assist with a broad spectrum of queries and challenges.\n"
     ]
    }
   ],
   "source": [
    "response = client.chat.completions.create(\n",
    "  model=\"deepseek-r1\",\n",
    "  messages=messages,\n",
    "  max_tokens=500\n",
    ")\n",
    "print(response.choices[0].message.content)"
   ]
  },
  {
   "cell_type": "markdown",
   "id": "77a032f4-b6ef-4484-8c50-102fd1ddf136",
   "metadata": {},
   "source": [
    "# Discussion\n",
    "gpt 3.5-turbo discusses the use cases of DeepSeek, however ultimately emphasizing caution due to semi-political and social issues. \n",
    "\n",
    "Opposingly, DeepSeek takes a more objective approach, describing potential data feeding issues and inconsistencies, however it ends up taking a positive conclusion in emphasizing its effectiveness. \n",
    "\n",
    "In this way, it seems as though gpt may have influences of opinionated responses due to social and political climates around DeepSeek, whereas DeepSeek takes a more objective approach in this scenario.\n",
    "\n",
    "It would be interesting to conduct this experiment with other LLMs and see the distribution of seemingly objective vs. opinionated responses."
   ]
  }
 ],
 "metadata": {
  "kernelspec": {
   "display_name": "Python 3-12 (COMM4190)",
   "language": "python",
   "name": "python3-12_comm4190"
  },
  "language_info": {
   "codemirror_mode": {
    "name": "ipython",
    "version": 3
   },
   "file_extension": ".py",
   "mimetype": "text/x-python",
   "name": "python",
   "nbconvert_exporter": "python",
   "pygments_lexer": "ipython3",
   "version": "3.12.8"
  }
 },
 "nbformat": 4,
 "nbformat_minor": 5
}
