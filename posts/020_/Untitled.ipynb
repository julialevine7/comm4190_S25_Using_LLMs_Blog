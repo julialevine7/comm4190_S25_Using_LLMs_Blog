{
 "cells": [
  {
   "cell_type": "raw",
   "id": "0a2434fa-4e37-45c6-b5ee-c2584837847a",
   "metadata": {},
   "source": [
    "---\n",
    "execute:\n",
    "\n",
    "  output: asis\n",
    "\n",
    "\n",
    "title: \"T\"\n",
    "description: \"\"\n",
    "author: \"Julia Levine\"\n",
    "date: \"\"\n",
    "categories:\n",
    "  - \n",
    "---"
   ]
  }
 ],
 "metadata": {
  "kernelspec": {
   "display_name": "Python 3-12 (COMM4190)",
   "language": "python",
   "name": "python3-12_comm4190"
  },
  "language_info": {
   "codemirror_mode": {
    "name": "ipython",
    "version": 3
   },
   "file_extension": ".py",
   "mimetype": "text/x-python",
   "name": "python",
   "nbconvert_exporter": "python",
   "pygments_lexer": "ipython3",
   "version": "3.12.8"
  }
 },
 "nbformat": 4,
 "nbformat_minor": 5
}
