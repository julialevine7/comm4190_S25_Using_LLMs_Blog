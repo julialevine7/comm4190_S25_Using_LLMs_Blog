{
 "cells": [
  {
   "cell_type": "code",
   "execution_count": null,
   "id": "bba8875a-6a4a-4889-a7f1-f86816fe8142",
   "metadata": {},
   "outputs": [],
   "source": [
    "---\n",
    "title: \"Are LLMs Overprepared or Underprepared?\"\n",
    "description: \"When packing for a 4-day trip, does gpt-4o remember to bring an extra pair of socks?\"\n",
    "author: \"Julia Levine\"\n",
    "date: \"2/20/2025\"\n",
    "categories:\n",
    "  - Predictions\n",
    "---"
   ]
  }
 ],
 "metadata": {
  "kernelspec": {
   "display_name": "Python 3-12 (COMM4190)",
   "language": "python",
   "name": "python3-12_comm4190"
  },
  "language_info": {
   "codemirror_mode": {
    "name": "ipython",
    "version": 3
   },
   "file_extension": ".py",
   "mimetype": "text/x-python",
   "name": "python",
   "nbconvert_exporter": "python",
   "pygments_lexer": "ipython3",
   "version": "3.12.8"
  }
 },
 "nbformat": 4,
 "nbformat_minor": 5
}
