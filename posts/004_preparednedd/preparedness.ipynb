{
 "cells": [
  {
   "cell_type": "raw",
   "id": "fa295394-3940-4dc7-8a39-c6b89b3bb784",
   "metadata": {},
   "source": [
    "---\n",
    "execute:\n",
    "\n",
    "  output: asis\n",
    "\n",
    "title: \"Are LLMs Overprepared or Underprepared?\"\n",
    "description: \"When packing for a 3-day trip, does gpt-3.5-turbo remember to bring an extra pair of socks?\"\n",
    "author: \"Julia Levine\"\n",
    "date: \"2/17/2025\"\n",
    "categories:\n",
    "  - Predictions\n",
    "---"
   ]
  },
  {
   "cell_type": "markdown",
   "id": "b312262c-5dc1-477d-b0bc-eaff599e60ec",
   "metadata": {},
   "source": [
    "How well can gpt-3.5-turbo predict the future? And by the future, I mean what I should have packed for my 3 day trip to Florida to visit my Grandma."
   ]
  },
  {
   "cell_type": "code",
   "execution_count": 1,
   "id": "2dcd9464-19f5-4fa3-a7c0-89063ad24424",
   "metadata": {},
   "outputs": [],
   "source": [
    "from openai import OpenAI\n",
    "import os\n",
    "import base64\n",
    "\n",
    "from dotenv import load_dotenv\n",
    "# Load API key\n",
    "_ = load_dotenv()"
   ]
  },
  {
   "cell_type": "code",
   "execution_count": 2,
   "id": "2131ee79-422e-4a23-bd57-af40be66ab49",
   "metadata": {},
   "outputs": [],
   "source": [
    "client = OpenAI()\n",
    "\n",
    "completion = client.chat.completions.create(\n",
    "  model=\"gpt-3.5-turbo\",\n",
    "  messages=[\n",
    "    {\"role\": \"system\", \n",
    "     \"content\": \"You are a helpful assistant.\"},\n",
    "    {\"role\": \"user\", \n",
    "     \"content\": \"I'm packing for a 3 day trip to Florida. Please make me a packing list.\"}\n",
    "  ]\n",
    ")\n",
    "\n",
    "response = completion.choices[0].message.content"
   ]
  },
  {
   "cell_type": "code",
   "execution_count": 3,
   "id": "8bcd2f25-3510-42cc-aa33-9ca274149620",
   "metadata": {},
   "outputs": [
    {
     "name": "stdout",
     "output_type": "stream",
     "text": [
      "Sure! Here's a packing list for your 3-day trip to Florida:\n",
      "\n",
      "Clothing:\n",
      "- Lightweight tops\n",
      "- Shorts\n",
      "- Bathing suits\n",
      "- Sandals\n",
      "- Hat\n",
      "- Sunglasses\n",
      "- Pajamas\n",
      "- Undergarments\n",
      "- Socks\n",
      "- Light jacket or sweater (in case it gets chilly)\n",
      "\n",
      "Toiletries:\n",
      "- Toothbrush and toothpaste\n",
      "- Shampoo and conditioner\n",
      "- Body wash\n",
      "- Sunscreen\n",
      "- After-sun lotion\n",
      "- Face wash\n",
      "- Moisturizer\n",
      "- Razor\n",
      "- Deodorant\n",
      "- Hairbrush or comb\n",
      "- Hair ties or accessories\n",
      "- Makeup (if you wear it)\n",
      "- Personal hygiene products\n",
      "\n",
      "Miscellaneous:\n",
      "- Phone and charger\n",
      "- Camera\n",
      "- Travel documents (ID, tickets, reservation confirmations)\n",
      "- Cash and/or credit cards\n",
      "- Snacks\n",
      "- Reusable water bottle\n",
      "- Travel-sized laundry detergent (if needed)\n",
      "- Beach towel\n",
      "- Book or e-reader\n",
      "- Any medications you may need\n",
      "\n",
      "Optional items:\n",
      "- Beach bag\n",
      "- Portable charger\n",
      "- Travel guide or map\n",
      "- Snorkel gear or other beach toys\n",
      "- Flip flops\n",
      "- Insulated water bottle\n",
      "\n",
      "Remember to pack light and only bring what you know you will need. Enjoy your trip to Florida!\n"
     ]
    }
   ],
   "source": [
    "print(response)"
   ]
  },
  {
   "cell_type": "markdown",
   "id": "216d0f6b-68eb-47ba-bb83-74ca7c9314df",
   "metadata": {},
   "source": [
    "# Discussion\n",
    "Ironically enough, gpt-4o emphasizes packing light with this plethoric list. And I thought I was an over-packer!!\n",
    "\n",
    "It seems that gpt-4o is using a catch-all approach to identify every possible need I could have during this trip, and then adding in some extras for fun. Because I mentioned I'm going to Florida, these extras are very beach-oriented. What gpt-4o doesn't know is that my time here will be mostly spent inside at my Grandma's retirement development. I guess some snorkel gear could be (not) fun for the clubhouse pool, though. \n",
    "\n",
    "Going back to the essentials, gpt-4o appears to theorize that I should be more over-prepared than I usually am, ensuring I should pack cash, snacks, and laundry detergent, all of which I would normally just obtain on the spot. In my experience, this advice seems more tuned to international travel or travel many years ago when these items were not as easily obtainable on the spot. I guess it doesn't know exactly where I am originating my travel from, however, its assumption seems a bit far-fetched. \n",
    "\n",
    "Just for fun, I am curious to see where it thinks I have traveled from to be here. In my hometown (New York) its the classic pipeline to have grandparents that are from New York and then retire in Florida, so I think this prediction could be an easy one..."
   ]
  },
  {
   "cell_type": "code",
   "execution_count": 4,
   "id": "9199ab95-c6b1-465a-ac49-10cdbfa5ec77",
   "metadata": {},
   "outputs": [],
   "source": [
    "client = OpenAI()\n",
    "\n",
    "completion = client.chat.completions.create(\n",
    "  model=\"gpt-3.5-turbo\",\n",
    "  messages=[\n",
    "    {\"role\": \"system\", \n",
    "     \"content\": \"You are a helpful assistant.\"},\n",
    "    {\"role\": \"user\", \n",
    "     \"content\": \"I'm going on a 3 day trip to Florida to visit my grandma. Where do you think I could be travelling from?\"}\n",
    "  ]\n",
    ")\n",
    "\n",
    "response = completion.choices[0].message.content"
   ]
  },
  {
   "cell_type": "code",
   "execution_count": 5,
   "id": "ceaa8cb5-08cc-4214-b8ea-239990b9d63f",
   "metadata": {},
   "outputs": [
    {
     "name": "stdout",
     "output_type": "stream",
     "text": [
      "Based on the information provided, it's difficult to determine your exact location. However, common places people travel from to visit Florida include states like New York, New Jersey, California, Texas, or even other countries if you're traveling internationally. The distance and mode of transportation can vary based on your starting point.\n"
     ]
    }
   ],
   "source": [
    "print(response)"
   ]
  },
  {
   "cell_type": "markdown",
   "id": "55ace628-0a59-467b-9f3f-d086b26e1b7c",
   "metadata": {},
   "source": [
    "Honestly, pretty spot-on.\n",
    "\n",
    "# Conclusion\n",
    "It seems that gpt's planning expertise is a bit mis-placed although nothing harmful. If I packed everything that was on this list, I would for sure need an extra bag, but maybe I would become the perfect traveler if I did. \n",
    "\n",
    "For the future, I could definitely see me using this as an aid to remember something I could forget, but I would not rely on it as a packing assistant for every trip."
   ]
  }
 ],
 "metadata": {
  "kernelspec": {
   "display_name": "Python 3-12 (COMM4190)",
   "language": "python",
   "name": "python3-12_comm4190"
  },
  "language_info": {
   "codemirror_mode": {
    "name": "ipython",
    "version": 3
   },
   "file_extension": ".py",
   "mimetype": "text/x-python",
   "name": "python",
   "nbconvert_exporter": "python",
   "pygments_lexer": "ipython3",
   "version": "3.12.8"
  }
 },
 "nbformat": 4,
 "nbformat_minor": 5
}
