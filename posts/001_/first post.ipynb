{
 "cells": [
  {
   "cell_type": "code",
   "execution_count": null,
   "id": "fdcb0361-a57a-449a-a737-ef530c978928",
   "metadata": {},
   "outputs": [],
   "source": [
    "---\n",
    "title: \"Julia's post #1\"\n",
    "description: \"Julia's first post for comm class\"\n",
    "author: \"Julia Levine\"\n",
    "date: \"1/29/2025\"\n",
    "categories:\n",
    "  - unsure!\n",
    "---"
   ]
  }
 ],
 "metadata": {
  "kernelspec": {
   "display_name": "Python 3-12 (COMM4190)",
   "language": "python",
   "name": "python3-12_comm4190"
  },
  "language_info": {
   "codemirror_mode": {
    "name": "ipython",
    "version": 3
   },
   "file_extension": ".py",
   "mimetype": "text/x-python",
   "name": "python",
   "nbconvert_exporter": "python",
   "pygments_lexer": "ipython3",
   "version": "3.12.8"
  }
 },
 "nbformat": 4,
 "nbformat_minor": 5
}
