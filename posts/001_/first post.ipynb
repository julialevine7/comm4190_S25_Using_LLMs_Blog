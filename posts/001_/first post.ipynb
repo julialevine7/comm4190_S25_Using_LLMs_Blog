{
 "cells": [
  {
   "cell_type": "raw",
   "id": "46286e2d-1238-4933-a4a4-b84828cd3599",
   "metadata": {},
   "source": [
    "---\n",
    "title: \"Julia's post #1\"\n",
    "description: \"Julia's first post for comm class\"\n",
    "author: \"Julia Levine\"\n",
    "date: \"1/29/2025\"\n",
    "categories:\n",
    "  - unsure!\n",
    "---"
   ]
  }
 ],
 "metadata": {
  "kernelspec": {
   "display_name": "Python 3 (ipykernel)",
   "language": "python",
   "name": "python3"
  },
  "language_info": {
   "codemirror_mode": {
    "name": "ipython",
    "version": 3
   },
   "file_extension": ".py",
   "mimetype": "text/x-python",
   "name": "python",
   "nbconvert_exporter": "python",
   "pygments_lexer": "ipython3",
   "version": "3.10.12"
  }
 },
 "nbformat": 4,
 "nbformat_minor": 5
}
