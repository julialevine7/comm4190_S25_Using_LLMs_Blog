{
 "cells": [
  {
   "cell_type": "raw",
   "id": "a4142047-aaab-4d17-8612-216485d1a717",
   "metadata": {},
   "source": [
    "---\n",
    "execute:\n",
    "\n",
    "  output: asis\n",
    "\n",
    "\n",
    "title: \"Convincing ChatGPT That I'm ChatGPT\"\n",
    "description: \"Can ChatGPT determine whether I'm human or another LLM?\"\n",
    "author: \"Julia Levine\"\n",
    "date: \"2/28/2025\"\n",
    "categories:\n",
    "  - LLMs\n",
    "---"
   ]
  },
  {
   "cell_type": "markdown",
   "id": "96ddba70-62ba-4660-a47e-14e05e64ea62",
   "metadata": {},
   "source": [
    "How well can gpt-4o predict whether or not plain text is from a human or an LLM? I will test this idea first with a simple greeting I create, and then ask gpt-4o to create the next message I will test it with. "
   ]
  },
  {
   "cell_type": "code",
   "execution_count": 2,
   "id": "05686933-fc56-4f24-beba-c627cfd1c8d7",
   "metadata": {},
   "outputs": [],
   "source": [
    "from openai import OpenAI\n",
    "import os\n",
    "import base64\n",
    "\n",
    "from dotenv import load_dotenv\n",
    "# Load API key\n",
    "_ = load_dotenv()"
   ]
  },
  {
   "cell_type": "code",
   "execution_count": 5,
   "id": "d39c83b3-bea0-482d-832c-692d6a8055ec",
   "metadata": {},
   "outputs": [],
   "source": [
    "client = OpenAI()\n",
    "\n",
    "completion = client.chat.completions.create(\n",
    "  model=\"gpt-4o\",\n",
    "  messages=[\n",
    "    {\"role\": \"system\", \n",
    "     \"content\": \"You are a helpful assistant.\"},\n",
    "    {\"role\": \"user\", \n",
    "     \"content\": \"Give a score from 0-100 on your confidence that this message is from a human: Hello. How are you today?\"}\n",
    "  ]\n",
    ")\n",
    "\n",
    "response = completion.choices[0].message.content"
   ]
  },
  {
   "cell_type": "code",
   "execution_count": 6,
   "id": "d571ede0-c92f-4e0e-9965-ff8fa2a4bc77",
   "metadata": {},
   "outputs": [
    {
     "name": "stdout",
     "output_type": "stream",
     "text": [
      "Based on the content of the message \"Hello. How are you today?\", I would give a confidence score of 85 out of 100 that it is from a human. The message is simple, polite, and consistent with typical human greetings, but it is possible for an AI to generate similar text. The lack of more complex, personalized content keeps the confidence from being higher.\n"
     ]
    }
   ],
   "source": [
    "print(response)"
   ]
  },
  {
   "cell_type": "code",
   "execution_count": 7,
   "id": "a8744130-fff2-4b30-8553-6be44548da9c",
   "metadata": {},
   "outputs": [],
   "source": [
    "client = OpenAI()\n",
    "\n",
    "completion = client.chat.completions.create(\n",
    "  model=\"gpt-4o\",\n",
    "  messages=[\n",
    "    {\"role\": \"system\", \n",
    "     \"content\": \"You are a helpful assistant.\"},\n",
    "    {\"role\": \"user\", \n",
    "     \"content\": \"Create a random sentence for me\"}\n",
    "  ]\n",
    ")\n",
    "\n",
    "response = completion.choices[0].message.content"
   ]
  },
  {
   "cell_type": "code",
   "execution_count": 8,
   "id": "7c26b2a7-842f-42b6-a9b0-5cc12d864a37",
   "metadata": {},
   "outputs": [
    {
     "name": "stdout",
     "output_type": "stream",
     "text": [
      "Certainly! Here's a randomly generated sentence: \"The playful kitten chased a fluttering leaf across the sunlit garden.\"\n"
     ]
    }
   ],
   "source": [
    "print(response)"
   ]
  },
  {
   "cell_type": "code",
   "execution_count": 9,
   "id": "c10eeafe-401c-4956-80e6-c59d1dc6907a",
   "metadata": {},
   "outputs": [],
   "source": [
    "client = OpenAI()\n",
    "\n",
    "completion = client.chat.completions.create(\n",
    "  model=\"gpt-4o\",\n",
    "  messages=[\n",
    "    {\"role\": \"system\", \n",
    "     \"content\": \"You are a helpful assistant.\"},\n",
    "    {\"role\": \"user\", \n",
    "     \"content\": \"Give a score from 0-100 on your confidence that this message is from a human: The playful kitten chased a fluttering leaf across the sunlit garden.\"}\n",
    "  ]\n",
    ")\n",
    "\n",
    "response = completion.choices[0].message.content"
   ]
  },
  {
   "cell_type": "code",
   "execution_count": 10,
   "id": "f3913a2d-70b0-483a-9657-ee441027b3d2",
   "metadata": {},
   "outputs": [
    {
     "name": "stdout",
     "output_type": "stream",
     "text": [
      "Based on the content of the message, which is a descriptive sentence about a playful kitten, I would score my confidence that this message is from a human around 85. The sentence is coherent, creative, and contains emotionally engaging imagery, which are indicators typically associated with human writing. However, given advancements in AI language generation, it's still possible that a sophisticated AI could produce such a sentence, which is why it's not 100.\n"
     ]
    }
   ],
   "source": [
    "print(response)"
   ]
  },
  {
   "cell_type": "markdown",
   "id": "2f98b9da-8c30-4d4f-bdf0-7884825a219d",
   "metadata": {},
   "source": [
    "## Discussion\n",
    "It was interesting to see that gpt-4o gave a confidence score of 85 for both the human-written and LLM-written sentences. I would be curious to know more about the reasoning behind these scores, especially when the two sentences were very different contextually. \n",
    "\n",
    "I wonder if gpt-4o would more accurately detect humans compared to LLMs for longer pieces of text, or if it's more limited to things like images or drawings."
   ]
  }
 ],
 "metadata": {
  "kernelspec": {
   "display_name": "Python 3-12 (COMM4190)",
   "language": "python",
   "name": "python3-12_comm4190"
  },
  "language_info": {
   "codemirror_mode": {
    "name": "ipython",
    "version": 3
   },
   "file_extension": ".py",
   "mimetype": "text/x-python",
   "name": "python",
   "nbconvert_exporter": "python",
   "pygments_lexer": "ipython3",
   "version": "3.12.8"
  }
 },
 "nbformat": 4,
 "nbformat_minor": 5
}
