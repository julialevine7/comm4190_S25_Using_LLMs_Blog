{
 "cells": [
  {
   "cell_type": "raw",
   "id": "c383197e-45e4-44e1-9fad-f01c22b99ec0",
   "metadata": {},
   "source": [
    "---\n",
    "execute:\n",
    "  output: asis\n",
    "\n",
    "\n",
    "title: \"T\"\n",
    "description: \"\"\n",
    "author: \"Julia Levine\"\n",
    "date: \"\"\n",
    "categories:\n",
    "  - \"C1\"\n",
    "draft: true\n",
    "---"
   ]
  }
 ],
 "metadata": {
  "kernelspec": {
   "display_name": "Python 3-12 (COMM4190)",
   "language": "python",
   "name": "python3-12_comm4190"
  },
  "language_info": {
   "codemirror_mode": {
    "name": "ipython",
    "version": 3
   },
   "file_extension": ".py",
   "mimetype": "text/x-python",
   "name": "python",
   "nbconvert_exporter": "python",
   "pygments_lexer": "ipython3",
   "version": "3.12.8"
  }
 },
 "nbformat": 4,
 "nbformat_minor": 5
}
