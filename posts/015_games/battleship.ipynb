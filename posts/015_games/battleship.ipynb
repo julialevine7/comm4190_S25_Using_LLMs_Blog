{
 "cells": [
  {
   "cell_type": "raw",
   "id": "61b1a277-753c-4bfc-baa3-8316dfb698d6",
   "metadata": {},
   "source": [
    "---\n",
    "execute:\n",
    "\n",
    "  output: asis\n",
    "\n",
    "\n",
    "title: \"Creating Battleship using gpt-4o\"\n",
    "description: \"How well can an LLM create a turn-based game in Python?\"\n",
    "author: \"Julia Levine\"\n",
    "date: \"5/13/2025\"\n",
    "categories:\n",
    "  - LLMs\n",
    "  - Games\n",
    "---"
   ]
  },
  {
   "cell_type": "markdown",
   "id": "3577a4d3-8692-4530-9ec5-a368d3574bc8",
   "metadata": {},
   "source": [
    "# Introduction\n",
    "Many users of OpenAIs models flaunt the idea that coding with the help of an LLM is so much easier and more efficient. For me, this is true about 50% of the time. For projects I've used LLMs to help me code, there are many times where it skips over a problem, induces a strange solution, or even sends me back the same code with no fixes! In order to test this, I'd like to see how well gpt-4o can create a fully python-based game from one prompt. I will use the classic turn-based game battleships as my example. Just for context, my CIS 1200 final project was to code battleships (without LLMs!) in Java, which never really worked..."
   ]
  },
  {
   "cell_type": "markdown",
   "id": "62cc0513-0c94-4dcd-aa91-ced57bb71082",
   "metadata": {},
   "source": [
    "# Code\n",
    "I asked gpt-4o to make a battleship game in Python. Attached below is the code."
   ]
  },
  {
   "cell_type": "code",
   "execution_count": 1,
   "id": "cf80bafc-6906-4667-bc9e-747c02733068",
   "metadata": {},
   "outputs": [
    {
     "name": "stdout",
     "output_type": "stream",
     "text": [
      "Let's play Battleship!\n",
      "O O O O O\n",
      "O O O O O\n",
      "O O O O O\n",
      "O O O O O\n",
      "O O O O O\n",
      "\n",
      "Turn 1\n"
     ]
    },
    {
     "name": "stdin",
     "output_type": "stream",
     "text": [
      "Guess Row (0-4):  2\n",
      "Guess Col (0-4):  1\n"
     ]
    },
    {
     "name": "stdout",
     "output_type": "stream",
     "text": [
      "You missed!\n",
      "O O O O O\n",
      "O O O O O\n",
      "O X O O O\n",
      "O O O O O\n",
      "O O O O O\n",
      "\n",
      "Turn 2\n"
     ]
    },
    {
     "name": "stdin",
     "output_type": "stream",
     "text": [
      "Guess Row (0-4):  4\n",
      "Guess Col (0-4):  3\n"
     ]
    },
    {
     "name": "stdout",
     "output_type": "stream",
     "text": [
      "You missed!\n",
      "O O O O O\n",
      "O O O O O\n",
      "O X O O O\n",
      "O O O O O\n",
      "O O O X O\n",
      "\n",
      "Turn 3\n"
     ]
    },
    {
     "name": "stdin",
     "output_type": "stream",
     "text": [
      "Guess Row (0-4):  4\n",
      "Guess Col (0-4):  2\n"
     ]
    },
    {
     "name": "stdout",
     "output_type": "stream",
     "text": [
      "You missed!\n",
      "O O O O O\n",
      "O O O O O\n",
      "O X O O O\n",
      "O O O O O\n",
      "O O X X O\n",
      "\n",
      "Turn 4\n"
     ]
    },
    {
     "name": "stdin",
     "output_type": "stream",
     "text": [
      "Guess Row (0-4):  4\n",
      "Guess Col (0-4):  1\n"
     ]
    },
    {
     "name": "stdout",
     "output_type": "stream",
     "text": [
      "You missed!\n",
      "O O O O O\n",
      "O O O O O\n",
      "O X O O O\n",
      "O O O O O\n",
      "O X X X O\n",
      "Game Over! The ship was at (2, 3)\n"
     ]
    }
   ],
   "source": [
    "import random\n",
    "\n",
    "# Create a 5x5 board\n",
    "def create_board(size=5):\n",
    "    return [[\"O\"] * size for _ in range(size)]\n",
    "\n",
    "# Print the board\n",
    "def print_board(board):\n",
    "    for row in board:\n",
    "        print(\" \".join(row))\n",
    "\n",
    "# Random position generator\n",
    "def random_row(board):\n",
    "    return random.randint(0, len(board) - 1)\n",
    "\n",
    "def random_col(board):\n",
    "    return random.randint(0, len(board[0]) - 1)\n",
    "\n",
    "# Initialize game\n",
    "board = create_board()\n",
    "ship_row = random_row(board)\n",
    "ship_col = random_col(board)\n",
    "\n",
    "print(\"Let's play Battleship!\")\n",
    "print_board(board)\n",
    "\n",
    "# Max turns\n",
    "for turn in range(4):\n",
    "    print(f\"\\nTurn {turn + 1}\")\n",
    "    try:\n",
    "        guess_row = int(input(\"Guess Row (0-4): \"))\n",
    "        guess_col = int(input(\"Guess Col (0-4): \"))\n",
    "    except ValueError:\n",
    "        print(\"Please enter valid integers.\")\n",
    "        continue\n",
    "\n",
    "    if guess_row == ship_row and guess_col == ship_col:\n",
    "        print(\"Congratulations! You sunk my battleship!\")\n",
    "        break\n",
    "    elif (0 <= guess_row < 5) and (0 <= guess_col < 5):\n",
    "        if board[guess_row][guess_col] == \"X\":\n",
    "            print(\"You already guessed that.\")\n",
    "        else:\n",
    "            print(\"You missed!\")\n",
    "            board[guess_row][guess_col] = \"X\"\n",
    "    else:\n",
    "        print(\"Oops, that's not even in the ocean.\")\n",
    "\n",
    "    print_board(board)\n",
    "\n",
    "    if turn == 3:\n",
    "        print(f\"Game Over! The ship was at ({ship_row}, {ship_col})\")\n"
   ]
  },
  {
   "cell_type": "markdown",
   "id": "c80caef2-fc20-421c-bb50-e80e94b38314",
   "metadata": {},
   "source": [
    "### Discussion\n",
    "The game works really well! I was unable to find any issues with the gameplay, and the score board updating is consistent across plays. In terms of the code structure, gpt-4o seemed to organize everything very well in defined functions with controls for error messages and missing values. The comments added are descriptive but not overly so and the functions are well-named. The separation and indentations of the code are also on-par with normal code. \n",
    "\n",
    "Upon first glance, it seems that gpt-4o was able to execute this code well, likely due to the large number of coding examples for this game online. \n",
    "\n",
    "I am curious to see how well gpt-4o could perform in creating more complicated games. I'd also want to test making requests on aesthetic changes rather than functional changes, since I have experienced issues communicating aesthetic "
   ]
  }
 ],
 "metadata": {
  "kernelspec": {
   "display_name": "Python 3-12 (COMM4190)",
   "language": "python",
   "name": "python3-12_comm4190"
  },
  "language_info": {
   "codemirror_mode": {
    "name": "ipython",
    "version": 3
   },
   "file_extension": ".py",
   "mimetype": "text/x-python",
   "name": "python",
   "nbconvert_exporter": "python",
   "pygments_lexer": "ipython3",
   "version": "3.12.8"
  }
 },
 "nbformat": 4,
 "nbformat_minor": 5
}
