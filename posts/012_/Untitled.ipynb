{
 "cells": [
  {
   "cell_type": "raw",
   "id": "446249f9-7107-4e9e-ab1f-5be1012abcdf",
   "metadata": {},
   "source": [
    "---\n",
    "execute:\n",
    "\n",
    "  output: asis\n",
    "\n",
    "\n",
    "title: \"\"\n",
    "description: \"\"\n",
    "author: \"Julia Levine\"\n",
    "date: \"3/20/2025\"\n",
    "categories:\n",
    "  - LLMs\n",
    "  - Image to Text\n",
    "---"
   ]
  }
 ],
 "metadata": {
  "kernelspec": {
   "display_name": "Python 3-12 (COMM4190)",
   "language": "python",
   "name": "python3-12_comm4190"
  },
  "language_info": {
   "codemirror_mode": {
    "name": "ipython",
    "version": 3
   },
   "file_extension": ".py",
   "mimetype": "text/x-python",
   "name": "python",
   "nbconvert_exporter": "python",
   "pygments_lexer": "ipython3",
   "version": "3.12.8"
  }
 },
 "nbformat": 4,
 "nbformat_minor": 5
}
