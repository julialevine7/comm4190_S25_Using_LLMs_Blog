{
 "cells": [
  {
   "cell_type": "raw",
   "id": "9a499354-da06-43f2-bf09-81ef64d84b23",
   "metadata": {},
   "source": [
    "---\n",
    "title: \"How well can LLMs describe basic shapes?\"\n",
    "description: \"We all know that image generation through LLMs isn't always intuitive, so how well can these LLMs describe the shapes via prompting?\"\n",
    "author: \"Julia Levine\"\n",
    "date: \"2/20/2025\"\n",
    "categories:\n",
    "  - Image Generation\n",
    "---"
   ]
  }
 ],
 "metadata": {
  "kernelspec": {
   "display_name": "Python 3-12 (COMM4190)",
   "language": "python",
   "name": "python3-12_comm4190"
  },
  "language_info": {
   "codemirror_mode": {
    "name": "ipython",
    "version": 3
   },
   "file_extension": ".py",
   "mimetype": "text/x-python",
   "name": "python",
   "nbconvert_exporter": "python",
   "pygments_lexer": "ipython3",
   "version": "3.12.8"
  }
 },
 "nbformat": 4,
 "nbformat_minor": 5
}
