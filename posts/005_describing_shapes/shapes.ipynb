{
 "cells": [
  {
   "cell_type": "raw",
   "id": "9a499354-da06-43f2-bf09-81ef64d84b23",
   "metadata": {},
   "source": [
    "---\n",
    "title: \"How well can LLMs describe basic shapes?\"\n",
    "description: \"We all know that image generation through LLMs isn't always intuitive, so how well can these LLMs describe the shapes via prompting?\"\n",
    "author: \"Julia Levine\"\n",
    "date: \"2/20/2025\"\n",
    "categories:\n",
    "  - Image Description\n",
    "---"
   ]
  },
  {
   "cell_type": "markdown",
   "id": "4253cb9b-bf42-44bc-bc02-407add3b8b92",
   "metadata": {},
   "source": [
    "LLMs are known to have very different response styles and accuracy when comparing text prompts to image creation or image analysis. Sometimes very fundamental truths can be stretched, and I am curious to find out whether or not Anthropic and Gemini differ in their descriptions of a circle when prompted textually compared to visually. \n",
    "\n",
    "I will start with prompting Anthropic and Gemini with text first, then I will upload an image of a circle and ask them to describe the image the same way, comparing the response types.\n",
    "\n",
    "This could reveal important information behind how these models respond to text and visual prompting, where text responses could be more detail and information-oriented, and visual responses could be more aesthetically-focused."
   ]
  },
  {
   "cell_type": "markdown",
   "id": "a40ca8a4-a42e-4356-81ea-fe072773b612",
   "metadata": {},
   "source": [
    "## Anthropic\n",
    "How well can Anthropic describe shapes with no image prompting?"
   ]
  },
  {
   "cell_type": "code",
   "execution_count": 1,
   "id": "33113001-61d9-4e88-83b2-2954715a3bb6",
   "metadata": {},
   "outputs": [],
   "source": [
    "from dotenv import load_dotenv\n",
    "from anthropic import Anthropic\n",
    "import base64\n",
    "import httpx\n",
    "from IPython.display import display, Image, Markdown\n",
    "\n",
    "# load api keys\n",
    "_ = load_dotenv()"
   ]
  },
  {
   "cell_type": "code",
   "execution_count": 2,
   "id": "c76f972d-2e7c-4485-b6b0-c9f520e6ffdd",
   "metadata": {},
   "outputs": [],
   "source": [
    "client = Anthropic()"
   ]
  },
  {
   "cell_type": "code",
   "execution_count": 3,
   "id": "86076f77-49ed-4db7-a28c-2a045ae0fb1b",
   "metadata": {},
   "outputs": [
    {
     "name": "stdout",
     "output_type": "stream",
     "text": [
      "claude-3-7-sonnet-20250219\n",
      "claude-3-5-sonnet-20241022\n",
      "claude-3-5-haiku-20241022\n",
      "claude-3-5-sonnet-20240620\n",
      "claude-3-haiku-20240307\n",
      "claude-3-opus-20240229\n",
      "claude-3-sonnet-20240229\n",
      "claude-2.1\n",
      "claude-2.0\n"
     ]
    }
   ],
   "source": [
    "for model in client.models.list().data:\n",
    "    print(model.id)"
   ]
  },
  {
   "cell_type": "code",
   "execution_count": 4,
   "id": "f81157e8-4048-4604-b7ef-b9b9644d5dff",
   "metadata": {},
   "outputs": [],
   "source": [
    "OPUS = 'claude-3-opus-20240229'\n",
    "SONNET = 'claude-3-5-sonnet-20241022'\n",
    "HAIKU = 'claude-3-5-haiku-20241022'"
   ]
  },
  {
   "cell_type": "code",
   "execution_count": 5,
   "id": "1981bd8c-1662-409b-8f4e-718b5f383f07",
   "metadata": {},
   "outputs": [
    {
     "name": "stdout",
     "output_type": "stream",
     "text": [
      "A circle is a fundamental geometric shape defined as a set of points in a plane that are all equidistant from a central point, called the center. Here's a detailed description:\n",
      "\n",
      "Geometric Properties:\n",
      "- Perfectly round and symmetrical\n",
      "- Two-dimensional shape\n",
      "- Has no corners or edges\n",
      "- Continuous and smooth curve\n",
      "\n",
      "Key Components:\n",
      "1. Center Point\n",
      "- The fixed point from which all points on the circle's circumference are the same distance\n",
      "- Located at the middle of the circle\n",
      "\n",
      "2. Radius\n",
      "- A line segment from the center to any point on the circumference\n",
      "- All radii in a circle are exactly equal in length\n",
      "- Determines the circle's size\n",
      "\n",
      "3. Circumference\n",
      "- The complete outer boundary of the circle\n",
      "- Length calculated by the formula: 2πr (where r is the radius)\n",
      "- Represents the total distance around the circle\n",
      "\n",
      "4. Diameter\n",
      "- A line segment passing through the center\n",
      "- Connects two points on the circumference\n",
      "- Always twice the length of the radius\n",
      "- Splits the circle exactly in half\n",
      "\n",
      "Mathematical Characteristics:\n",
      "- Perfect symmetry\n",
      "- Infinite points of rotation\n",
      "- Area calculated by πr²\n",
      "- Perimeter calculated by 2πr\n",
      "\n",
      "Circles are fundamental in mathematics, engineering, design, and many natural phenomena.\n"
     ]
    }
   ],
   "source": [
    "message = client.messages.create(\n",
    "    model=HAIKU,\n",
    "    max_tokens=1000,\n",
    "    temperature=0.0,\n",
    "    system=\"You are a helpful assistant.\",\n",
    "    messages=[\n",
    "        {\"role\": \"user\", \"content\": \"Can you please describe, in as much detail as possible, what a circle is?\"}\n",
    "    ]\n",
    ")\n",
    "\n",
    "print(message.content[0].text)"
   ]
  },
  {
   "cell_type": "code",
   "execution_count": 20,
   "id": "26cf76c0-d036-486e-ae68-6f78049d4a39",
   "metadata": {},
   "outputs": [],
   "source": [
    "def encode_image(image_path):\n",
    "  with open(image_path, \"rb\") as image_file:\n",
    "    return base64.b64encode(image_file.read()).decode('utf-8')\n",
    "\n",
    "circle = encode_image('circle.png')"
   ]
  },
  {
   "cell_type": "code",
   "execution_count": 21,
   "id": "257c5c61-5479-4ba6-9c0a-0ea4da4eb5a4",
   "metadata": {},
   "outputs": [
    {
     "name": "stdout",
     "output_type": "stream",
     "text": [
      "Message(id='msg_01DYjQ9m9qw7J2xadWLazebi', content=[TextBlock(citations=None, text='The image shows a simple, perfect circle drawn with a black outline on a white background. The circle is symmetrical, with a uniform line weight and crisp, clean edges. Its diameter appears to be consistent throughout, creating a precise geometric shape. There are no additional details, patterns, or markings within the circle - it is a basic, minimalist representation of a circle.', type='text')], model='claude-3-5-haiku-20241022', role='assistant', stop_reason='end_turn', stop_sequence=None, type='message', usage=Usage(cache_creation_input_tokens=0, cache_read_input_tokens=0, input_tokens=126, output_tokens=80))\n"
     ]
    }
   ],
   "source": [
    "message = client.messages.create(\n",
    "    model=HAIKU,\n",
    "    max_tokens=1024,\n",
    "    messages=[\n",
    "        {\n",
    "            \"role\": \"user\",\n",
    "            \"content\": [\n",
    "                {\n",
    "                    \"type\": \"image\",\n",
    "                    \"source\": {\n",
    "                        \"type\": \"base64\",\n",
    "                        \"media_type\": 'image/png',\n",
    "                        \"data\": circle,\n",
    "                    },\n",
    "                },\n",
    "                {\n",
    "                    \"type\": \"text\",\n",
    "                    \"text\": \"Can you please describe what the image is in as much detail as possible?\"\n",
    "                }\n",
    "            ],\n",
    "        }\n",
    "    ],\n",
    ")\n",
    "print(message)"
   ]
  },
  {
   "cell_type": "markdown",
   "id": "6ddcad5a-f8c8-482f-93f4-9fa2321f9f7f",
   "metadata": {},
   "source": [
    "## Gemini\n",
    "How well can Gemini describe shapes compared to Anthropic?"
   ]
  },
  {
   "cell_type": "code",
   "execution_count": 9,
   "id": "3fef057a-3ad3-45c3-a4c7-9ce84ae96d06",
   "metadata": {},
   "outputs": [],
   "source": [
    "import google.generativeai as genai\n",
    "from IPython.display import Image, display, Markdown\n",
    "from dotenv import load_dotenv\n",
    "import os\n",
    "_ = load_dotenv()"
   ]
  },
  {
   "cell_type": "code",
   "execution_count": 10,
   "id": "202eae40-de94-46d4-ad94-c0bd423467e7",
   "metadata": {},
   "outputs": [],
   "source": [
    "genai.configure()"
   ]
  },
  {
   "cell_type": "code",
   "execution_count": 12,
   "id": "38c26f41-60c6-4daf-ada6-4fa93fa413eb",
   "metadata": {},
   "outputs": [
    {
     "name": "stdout",
     "output_type": "stream",
     "text": [
      "A circle is a fundamental geometric shape defined as follows:\n",
      "\n",
      "**Formal Definition:**\n",
      "\n",
      "A circle is the set of all points in a plane that are equidistant from a given point called the *center*.  The constant distance between the center and any point on the circle is called the *radius*.\n",
      "\n",
      "**Key Properties and Features:**\n",
      "\n",
      "* **Center:** The fixed point in the plane from which all points on the circle are equidistant.\n",
      "* **Radius (r):**  The distance between the center and any point on the circle.  It's a crucial defining characteristic.  All radii within a given circle are of equal length.\n",
      "* **Diameter (d):** A line segment that passes through the center and whose endpoints lie on the circle.  The diameter is twice the length of the radius (d = 2r).\n",
      "* **Circumference (C):** The distance around the circle.  It's calculated using the formula C = 2πr or C = πd, where π (pi) is a mathematical constant approximately equal to 3.14159.\n",
      "* **Area (A):** The region enclosed by the circle.  It's calculated using the formula A = πr².\n",
      "* **Chord:** A line segment whose endpoints lie on the circle. The diameter is the longest chord in a circle.\n",
      "* **Secant:** A line that intersects the circle at two distinct points.\n",
      "* **Tangent:** A line that intersects the circle at exactly one point, called the point of tangency.  The tangent line is perpendicular to the radius drawn to the point of tangency.\n",
      "* **Arc:** A portion of the circumference of a circle.\n",
      "* **Sector:** A region bounded by two radii and an arc of the circle.  It's like a \"slice of pie.\"\n",
      "* **Segment:** A region bounded by a chord and an arc of the circle.\n",
      "* **Concentric Circles:** Circles that share the same center but have different radii.\n",
      "* **Unit Circle:** A circle with a radius of 1.  It's frequently used in trigonometry.\n",
      "\n",
      "**Equation of a Circle:**\n",
      "\n",
      "In a Cartesian coordinate system, the equation of a circle with center (h, k) and radius r is given by:\n",
      "\n",
      "(x - h)² + (y - k)² = r²\n",
      "\n",
      "If the center is at the origin (0,0), the equation simplifies to:\n",
      "\n",
      "x² + y² = r²\n",
      "\n",
      "\n",
      "**Relationships and Applications:**\n",
      "\n",
      "Circles appear throughout mathematics and the real world.  They are integral to:\n",
      "\n",
      "* **Geometry:**  Used in countless geometric constructions and theorems.\n",
      "* **Trigonometry:** The unit circle defines trigonometric functions.\n",
      "* **Calculus:**  Used in calculating areas, volumes, and other properties of curved shapes.\n",
      "* **Physics:**  Represent orbits, waves, and other natural phenomena.\n",
      "* **Engineering:**  Used in designing wheels, gears, and other circular structures.\n",
      "* **Art and Design:**  Used for aesthetic purposes and creating visually appealing patterns.\n",
      "\n",
      "\n",
      "This detailed description should provide a comprehensive understanding of what a circle is and its various properties and applications.\n",
      "\n"
     ]
    }
   ],
   "source": [
    "model = genai.GenerativeModel(model_name=\"models/gemini-1.5-pro-latest\")\n",
    "\n",
    "response = model.generate_content(\"Can you please describe, in as much detail as possible, what a circle is?\")\n",
    "\n",
    "print(response.text)"
   ]
  },
  {
   "cell_type": "code",
   "execution_count": 16,
   "id": "48a67302-0192-4734-8048-df9ba80c6b15",
   "metadata": {},
   "outputs": [
    {
     "name": "stdout",
     "output_type": "stream",
     "text": [
      "Uploaded file 'circle' as: https://generativelanguage.googleapis.com/v1beta/files/fmd3frbfwft5\n"
     ]
    }
   ],
   "source": [
    "sample_file = genai.upload_file(path=\"circle.png\",\n",
    "                                display_name=\"circle\")\n",
    "\n",
    "print(f\"Uploaded file '{sample_file.display_name}' as: {sample_file.uri}\")"
   ]
  },
  {
   "cell_type": "code",
   "execution_count": 18,
   "id": "0d788df7-28f5-40d2-81ea-c7df155cc282",
   "metadata": {},
   "outputs": [
    {
     "name": "stdout",
     "output_type": "stream",
     "text": [
      "The image is a simple, unfilled black circle on a white background. The circle's line is of uniform thickness and appears to be perfectly smooth, with no breaks or variations in its width.  There are no other elements or markings within or outside the circle.  The background is a solid, untextured white.\n"
     ]
    }
   ],
   "source": [
    "model = genai.GenerativeModel(model_name=\"models/gemini-1.5-pro-latest\")\n",
    "\n",
    "response = model.generate_content([\"Can you please describe what the image is in as much detail as possible?\", sample_file])\n",
    "\n",
    "print(response.text)"
   ]
  },
  {
   "cell_type": "markdown",
   "id": "2d9fd2df-7311-43c9-84ee-2627acd76cbb",
   "metadata": {},
   "source": [
    "## Discussion\n",
    "When comparing Anthropic and Gemini, their response tones appear very similar when grouping between text and image prompting. \n",
    "\n",
    "### Text Prompting\n",
    "For both LLMs, the text responses for describing a circle were highly mathematical, with descriptors of applications towards identifying circles, creating circles, and using circles in relational fields such as physics. \n",
    "\n",
    "I deemed this to be an accurate and highly education-based response, even teaching me some new things about the properties of a circle. \n",
    "\n",
    "### Image Prompting\n",
    "Opposingly, when presenting a standard image of a circle from Wikipedia, both LLMs took a significantly more relaxed approach. Both the text and image prompts included the words \"in as much detail as possible\", yet the text response was several paragraphs long and the image response was 2-3 sentences long. \n",
    "\n",
    "The image response included details on thickness and color, with nothing much else about the image's properties or applications, let along identification. \n",
    "\n",
    "## Conclusion\n",
    "It seems as though these LLMs' image identification is much less adaptive than the text response, where it seems that both LLMs were able to quickly move past the idea of a text-based circle and include highly-educated responses, yet image-based circles seemed to get stuck in the identification phase. \n",
    "\n",
    "In this way, this is highly descriptive of many of the problems seen in LLM-based image identification and creation. Text-based responses are not immune to hallucinations or inconsistencies, however it seems as though the reasoning behind text-based responses are more developed and accurate than image-based responses.\n",
    "\n",
    "I am curious to see if emerging new models have this same similar issue, or if this remains a problem in the base theories behind image identification and generation in LLMs. Theoretically, I believe these LLMs should be tuned to identify some base images, including a circle, so that when I present an image of a circle, it can describe thickness and colors as well as its mathematical applications. "
   ]
  }
 ],
 "metadata": {
  "kernelspec": {
   "display_name": "Python 3-12 (COMM4190)",
   "language": "python",
   "name": "python3-12_comm4190"
  },
  "language_info": {
   "codemirror_mode": {
    "name": "ipython",
    "version": 3
   },
   "file_extension": ".py",
   "mimetype": "text/x-python",
   "name": "python",
   "nbconvert_exporter": "python",
   "pygments_lexer": "ipython3",
   "version": "3.12.8"
  }
 },
 "nbformat": 4,
 "nbformat_minor": 5
}
